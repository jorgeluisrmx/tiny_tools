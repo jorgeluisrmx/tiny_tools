{
 "cells": [
  {
   "cell_type": "code",
   "execution_count": 1,
   "metadata": {
    "collapsed": true
   },
   "outputs": [],
   "source": [
    "from fysom import Fysom"
   ]
  },
  {
   "cell_type": "code",
   "execution_count": 2,
   "metadata": {
    "collapsed": true
   },
   "outputs": [],
   "source": [
    "fsm_struct = {\n",
    "    'initial': 'green',\n",
    "    'events': [\n",
    "        {'name': 'warm', 'src': 'green', 'dst': 'yellow'},\n",
    "        {'name': 'clear', 'src': 'yellow', 'dst': 'green'},\n",
    "        {'name': 'calm', 'src': 'red', 'dst': 'yellow'},\n",
    "        {'name': 'panic', 'src': 'yellow', 'dst': 'red'}\n",
    "    ]\n",
    "}\n",
    "\n",
    "fsm = Fysom(fsm_struct)"
   ]
  },
  {
   "cell_type": "code",
   "execution_count": 5,
   "metadata": {
    "collapsed": true
   },
   "outputs": [],
   "source": [
    "def know_data(info):\n",
    "    print info, '-', type(info)"
   ]
  },
  {
   "cell_type": "code",
   "execution_count": 9,
   "metadata": {
    "collapsed": false
   },
   "outputs": [
    {
     "name": "stdout",
     "output_type": "stream",
     "text": [
      "green - <type 'str'>\n",
      "True - <type 'bool'>\n",
      "False - <type 'bool'>\n",
      "True - <type 'bool'>\n",
      "False - <type 'bool'>\n",
      "False - <type 'bool'>\n",
      "True - <type 'bool'>\n"
     ]
    }
   ],
   "source": [
    "# current state\n",
    "know_data( fsm.current )\n",
    "# return True if state s is the current state\n",
    "know_data( fsm.isstate('green') )\n",
    "know_data( fsm.isstate('red') )\n",
    "# return True if event e can be fired in the current state\n",
    "know_data( fsm.can('warm') )\n",
    "know_data( fsm.can('panic') )\n",
    "# return True if event s cannot be fired in the current state\n",
    "know_data( fsm.cannot('warm') )\n",
    "know_data( fsm.cannot('panic') )"
   ]
  },
  {
   "cell_type": "code",
   "execution_count": 17,
   "metadata": {
    "collapsed": false
   },
   "outputs": [
    {
     "data": {
      "text/plain": [
       "'yellow'"
      ]
     },
     "execution_count": 17,
     "metadata": {},
     "output_type": "execute_result"
    }
   ],
   "source": [
    "# use trigger instead of getattr\n",
    "fsm.trigger('warm')\n",
    "fsm.current"
   ]
  },
  {
   "cell_type": "code",
   "execution_count": 15,
   "metadata": {
    "collapsed": false
   },
   "outputs": [
    {
     "data": {
      "text/plain": [
       "['calm',\n",
       " 'can',\n",
       " 'cannot',\n",
       " 'clear',\n",
       " 'current',\n",
       " 'is_finished',\n",
       " 'isstate',\n",
       " 'panic',\n",
       " 'startup',\n",
       " 'trigger',\n",
       " 'warm']"
      ]
     },
     "execution_count": 15,
     "metadata": {},
     "output_type": "execute_result"
    }
   ],
   "source": [
    "[m for m in dir(fsm) if (hasattr(fsm, method)) and (not m.startswith('_'))]"
   ]
  },
  {
   "cell_type": "markdown",
   "metadata": {},
   "source": [
    "### testing callbacks"
   ]
  },
  {
   "cell_type": "code",
   "execution_count": 50,
   "metadata": {
    "collapsed": false
   },
   "outputs": [
    {
     "name": "stdout",
     "output_type": "stream",
     "text": [
      "(S) arriving to GREEN state\n"
     ]
    }
   ],
   "source": [
    "# for events\n",
    "def onwarm(e):\n",
    "    print '(e) event WARM callback'\n",
    "    print '    >>> from e', e.event, e.src, e.dst, e.args, e.numero\n",
    "    #print dir(e)\n",
    "    \n",
    "def onclear(e):\n",
    "    print '(e) event CLEAR callback'\n",
    "    \n",
    "def onpanic(e):\n",
    "    print '(e) event PANIC callback'\n",
    "    \n",
    "def oncalm(e):\n",
    "    print '(e) event CALM callback'\n",
    "\n",
    "def oncrazy(e):\n",
    "    print '(e) event CRAZY callback'\n",
    "\n",
    "# for \n",
    "def on_enter_green(e):\n",
    "    print '(S) arriving to GREEN state'\n",
    "    \n",
    "def on_enter_yellow(e):\n",
    "    print '(S) arriving to YELLOW state'\n",
    "    \n",
    "def on_enter_red(e):\n",
    "    print '(S) arriving to RED state'\n",
    "    \n",
    "def on_reenter_red(e):\n",
    "    print '(S) REentering to RED state'\n",
    "    \n",
    "\n",
    "# fms definition\n",
    "fsm_struct = {\n",
    "    'initial': 'green',\n",
    "    'events': [\n",
    "        {'name': 'warm', 'src': 'green', 'dst': 'yellow'},\n",
    "        {'name': 'clear', 'src': 'yellow', 'dst': 'green'},\n",
    "        {'name': 'calm', 'src': 'red', 'dst': 'yellow'},\n",
    "        {'name': 'panic', 'src': 'yellow', 'dst': 'red'},\n",
    "        {'name': 'crazy', 'src': 'red', 'dst': 'red'}\n",
    "    ],\n",
    "    'callbacks': {\n",
    "        'onbeforewarm': onwarm,\n",
    "        'onclear': onclear,\n",
    "        'onbeforepanic': onpanic,\n",
    "        'onbeforecalm': oncalm,\n",
    "        'onbeforecrazy': oncrazyx,\n",
    "        'ongreen': on_enter_green,\n",
    "        'onyellow': on_enter_yellow,\n",
    "        'onred': on_enter_red,\n",
    "        'onreenterred': on_reenter_red\n",
    "    }\n",
    "}\n",
    "\n",
    "fsm2 = Fysom(fsm_struct)"
   ]
  },
  {
   "cell_type": "code",
   "execution_count": 51,
   "metadata": {
    "collapsed": false
   },
   "outputs": [
    {
     "name": "stdout",
     "output_type": "stream",
     "text": [
      "STATE: green\n",
      "(e) event WARM callback\n",
      "    >>> from e warm green yellow (125,) 129\n",
      "(S) arriving to YELLOW state\n",
      "STATE: yellow\n",
      "(e) event PANIC callback\n",
      "(S) arriving to RED state\n",
      "STATE: red\n",
      "(e) event CRAZY callback\n",
      "(S) REentering to RED state\n",
      "STATE: red\n",
      "(e) event CRAZY callback\n",
      "(S) REentering to RED state\n",
      "STATE: red\n",
      "(e) event CALM callback\n",
      "(S) arriving to YELLOW state\n",
      "STATE: yellow\n",
      "(S) arriving to GREEN state\n",
      "(e) event CLEAR callback\n",
      "STATE: green\n"
     ]
    }
   ],
   "source": [
    "print 'STATE:', fsm2.current\n",
    "fsm2.warm(125, numero=129)\n",
    "print 'STATE:', fsm2.current\n",
    "fsm2.panic()\n",
    "print 'STATE:', fsm2.current\n",
    "fsm2.crazy()\n",
    "print 'STATE:', fsm2.current\n",
    "fsm2.crazy()\n",
    "print 'STATE:', fsm2.current\n",
    "fsm2.calm()\n",
    "print 'STATE:', fsm2.current\n",
    "fsm2.clear()\n",
    "print 'STATE:', fsm2.current"
   ]
  },
  {
   "cell_type": "markdown",
   "metadata": {},
   "source": [
    "### fsm as class"
   ]
  },
  {
   "cell_type": "code",
   "execution_count": 66,
   "metadata": {
    "collapsed": false
   },
   "outputs": [
    {
     "data": {
      "text/plain": [
       "<__main__.MyFSM at 0x7fc46405b410>"
      ]
     },
     "execution_count": 66,
     "metadata": {},
     "output_type": "execute_result"
    }
   ],
   "source": [
    "class MyFSM(Fysom):\n",
    "    \n",
    "    def __init__(self, struct):\n",
    "        super(MyFSM, self).__init__(struct)\n",
    "\n",
    "fsm_struct = {\n",
    "    'initial': 'green',\n",
    "    'events': [\n",
    "        {'name': 'warm', 'src': 'green', 'dst': 'yellow'},\n",
    "        {'name': 'clear', 'src': 'yellow', 'dst': 'green'},\n",
    "        {'name': 'calm', 'src': 'red', 'dst': 'yellow'},\n",
    "        {'name': 'panic', 'src': 'yellow', 'dst': 'red'},\n",
    "        {'name': 'crazy', 'src': 'red', 'dst': 'red'}\n",
    "    ]\n",
    "}        \n",
    "\n",
    "fsm3 = MyFSM(fsm_struct)\n",
    "fsm3"
   ]
  },
  {
   "cell_type": "code",
   "execution_count": 67,
   "metadata": {
    "collapsed": false
   },
   "outputs": [
    {
     "data": {
      "text/plain": [
       "True"
      ]
     },
     "execution_count": 67,
     "metadata": {},
     "output_type": "execute_result"
    }
   ],
   "source": [
    "isinstance(fsm3, Fysom)"
   ]
  },
  {
   "cell_type": "code",
   "execution_count": 68,
   "metadata": {
    "collapsed": false
   },
   "outputs": [
    {
     "name": "stdout",
     "output_type": "stream",
     "text": [
      "STATE: green\n",
      "STATE: yellow\n",
      "STATE: red\n",
      "STATE: red\n",
      "STATE: red\n",
      "STATE: yellow\n",
      "STATE: green\n"
     ]
    }
   ],
   "source": [
    "print 'STATE:', fsm3.current\n",
    "fsm3.warm(125, numero=129)\n",
    "print 'STATE:', fsm3.current\n",
    "fsm3.panic()\n",
    "print 'STATE:', fsm3.current\n",
    "fsm3.crazy()\n",
    "print 'STATE:', fsm3.current\n",
    "fsm3.crazy()\n",
    "print 'STATE:', fsm3.current\n",
    "fsm3.calm()\n",
    "print 'STATE:', fsm3.current\n",
    "fsm3.clear()\n",
    "print 'STATE:', fsm3.current"
   ]
  },
  {
   "cell_type": "code",
   "execution_count": 14,
   "metadata": {
    "collapsed": false
   },
   "outputs": [
    {
     "name": "stdout",
     "output_type": "stream",
     "text": [
      "(S) arriving to GREEN state\n"
     ]
    },
    {
     "data": {
      "text/plain": [
       "<__main__.MyFSM at 0x7f105c1d3510>"
      ]
     },
     "execution_count": 14,
     "metadata": {},
     "output_type": "execute_result"
    }
   ],
   "source": [
    "class MyFSM(Fysom):\n",
    "    \n",
    "    def __init__(self):\n",
    "        fsm_struct = {\n",
    "            'initial': 'green',\n",
    "            'events': [\n",
    "                {'name': 'warm', 'src': 'green', 'dst': 'yellow'},\n",
    "                {'name': 'clear', 'src': 'yellow', 'dst': 'green'},\n",
    "                {'name': 'calm', 'src': 'red', 'dst': 'yellow'},\n",
    "                {'name': 'panic', 'src': 'yellow', 'dst': 'red'},\n",
    "                {'name': 'crazy', 'src': 'red', 'dst': 'red'}\n",
    "            ],\n",
    "            'callbacks': {\n",
    "                'onwarm': self.onwarm,\n",
    "                'onclear': self.onclear,\n",
    "                'onbeforepanic': self.onpanic,\n",
    "                'onbeforecalm': self.on_before_calm,\n",
    "                'oncalm': self.oncalm,\n",
    "                'oncrazy': self.oncrazy,\n",
    "                'ongreen': self.on_enter_green,\n",
    "                'onyellow': self.on_enter_yellow,\n",
    "                'onred': self.on_enter_red,\n",
    "                'onreenterred': self.on_reenter_red\n",
    "            }\n",
    "        }        \n",
    "\n",
    "        super(MyFSM, self).__init__(fsm_struct)\n",
    "    \n",
    "    # for events\n",
    "    def onwarm(self, e):\n",
    "        print '(e) event WARM callback'\n",
    "        print '    >>> from e', e.event, e.src, e.dst, e.args, e.numero\n",
    "        #print dir(e)\n",
    "\n",
    "    def onclear(self, e):\n",
    "        print '(e) event CLEAR callback'\n",
    "\n",
    "    def onpanic(self, e):\n",
    "        print '(e) event PANIC callback'\n",
    "\n",
    "    def oncalm(self, e):\n",
    "        print '(e) event CALM callback'\n",
    "    \n",
    "    def on_before_calm(self, e):\n",
    "        print '(e:b) before event CALM callback'\n",
    "\n",
    "    def oncrazy(self, e):\n",
    "        print '(e) event CRAZY callback'\n",
    "\n",
    "    # for \n",
    "    def on_enter_green(self, e):\n",
    "        print '(S) arriving to GREEN state'\n",
    "\n",
    "    def on_enter_yellow(self, e):\n",
    "        print '(S) arriving to YELLOW state'\n",
    "\n",
    "    def on_enter_red(self, e):\n",
    "        print '(S) arriving to RED statce'\n",
    "\n",
    "    def on_reenter_red(self, e):\n",
    "        print '(S) REentering to RED state'\n",
    "\n",
    "\n",
    "fsm4 = MyFSM()\n",
    "fsm4"
   ]
  },
  {
   "cell_type": "code",
   "execution_count": 15,
   "metadata": {
    "collapsed": false
   },
   "outputs": [
    {
     "data": {
      "text/plain": [
       "True"
      ]
     },
     "execution_count": 15,
     "metadata": {},
     "output_type": "execute_result"
    }
   ],
   "source": [
    "isinstance(fsm4, Fysom)"
   ]
  },
  {
   "cell_type": "code",
   "execution_count": 16,
   "metadata": {
    "collapsed": false
   },
   "outputs": [
    {
     "name": "stdout",
     "output_type": "stream",
     "text": [
      "STATE: green\n",
      "(S) arriving to YELLOW state\n",
      "(e) event WARM callback\n",
      "    >>> from e warm green yellow (125,) 129\n",
      "STATE: yellow\n",
      "(e) event PANIC callback\n",
      "(S) arriving to RED statce\n",
      "(e) event PANIC callback\n",
      "STATE: red\n",
      "(S) REentering to RED state\n",
      "(e) event CRAZY callback\n",
      "STATE: red\n",
      "(S) REentering to RED state\n",
      "(e) event CRAZY callback\n",
      "STATE: red\n",
      "(e:b) before event CALM callback\n",
      "(S) arriving to YELLOW state\n",
      "(e) event CALM callback\n",
      "STATE: yellow\n",
      "(S) arriving to GREEN state\n",
      "(e) event CLEAR callback\n",
      "STATE: green\n"
     ]
    }
   ],
   "source": [
    "print 'STATE:', fsm4.current\n",
    "fsm4.warm(125, numero=129)\n",
    "print 'STATE:', fsm4.current\n",
    "fsm4.panic()\n",
    "print 'STATE:', fsm4.current\n",
    "fsm4.crazy()\n",
    "print 'STATE:', fsm4.current\n",
    "fsm4.crazy()\n",
    "print 'STATE:', fsm4.current\n",
    "fsm4.calm()\n",
    "print 'STATE:', fsm4.current\n",
    "fsm4.clear()\n",
    "print 'STATE:', fsm4.current"
   ]
  },
  {
   "cell_type": "code",
   "execution_count": null,
   "metadata": {
    "collapsed": true
   },
   "outputs": [],
   "source": []
  },
  {
   "cell_type": "code",
   "execution_count": 18,
   "metadata": {
    "collapsed": false
   },
   "outputs": [
    {
     "name": "stdout",
     "output_type": "stream",
     "text": [
      "(S) arriving to GREEN state\n"
     ]
    },
    {
     "data": {
      "text/plain": [
       "<__main__.MyFSM2 at 0x7f105c0876d0>"
      ]
     },
     "execution_count": 18,
     "metadata": {},
     "output_type": "execute_result"
    }
   ],
   "source": [
    "class MyFSM2(Fysom):\n",
    "    \n",
    "    def __init__(self):\n",
    "        fsm_struct = {\n",
    "            'initial': 'green',\n",
    "            'events': [\n",
    "                {'name': 'warm', 'src': 'green', 'dst': 'yellow'},\n",
    "                {'name': 'clear', 'src': 'yellow', 'dst': 'green'},\n",
    "                {'name': 'calm', 'src': 'red', 'dst': 'yellow'},\n",
    "                {'name': 'panic', 'src': 'yellow', 'dst': 'red'},\n",
    "                {'name': 'crazy', 'src': 'red', 'dst': 'red'}\n",
    "            ],\n",
    "            'callbacks': {\n",
    "                'onwarm': self.onwarm,\n",
    "                'onclear': self.onclear,\n",
    "                'onbeforepanic': self.onpanic,\n",
    "                'onbeforecalm': self.on_before_calm,\n",
    "                'oncalm': self.oncalm,\n",
    "                'oncrazy': self.oncrazy,\n",
    "                'ongreen': self.on_enter_green,\n",
    "                'onyellow': self.on_enter_yellow,\n",
    "                'onred': self.on_enter_red,\n",
    "                'onreenterred': self.on_reenter_red\n",
    "            }\n",
    "        }        \n",
    "\n",
    "        super(MyFSM2, self).__init__(fsm_struct)\n",
    "    \n",
    "    # for events\n",
    "    @staticmethod\n",
    "    def onwarm(e):\n",
    "        print '(e) event WARM callback'\n",
    "        print '    >>> from e', e.event, e.src, e.dst, e.args, e.numero\n",
    "        #print dir(e)\n",
    "\n",
    "    @staticmethod\n",
    "    def onclear(e):\n",
    "        print '(e) event CLEAR callback'\n",
    "\n",
    "    @staticmethod\n",
    "    def onpanic(e):\n",
    "        print '(e) event PANIC callback'\n",
    "\n",
    "    @staticmethod\n",
    "    def oncalm(e):\n",
    "        print '(e) event CALM callback'\n",
    "    \n",
    "    @staticmethod\n",
    "    def on_before_calm(e):\n",
    "        print '(e:b) before event CALM callback'\n",
    "\n",
    "    @staticmethod\n",
    "    def oncrazy(e):\n",
    "        print '(e) event CRAZY callback'\n",
    "\n",
    "    # for events\n",
    "    @staticmethod\n",
    "    def on_enter_green(e):\n",
    "        print '(S) arriving to GREEN state'\n",
    "\n",
    "    @staticmethod\n",
    "    def on_enter_yellow(e):\n",
    "        print '(S) arriving to YELLOW state'\n",
    "\n",
    "    @staticmethod\n",
    "    def on_enter_red(e):\n",
    "        print '(S) arriving to RED statce'\n",
    "\n",
    "    @staticmethod\n",
    "    def on_reenter_red(e):\n",
    "        print '(S) REentering to RED state'\n",
    "\n",
    "\n",
    "fsm42 = MyFSM2()\n",
    "fsm42"
   ]
  },
  {
   "cell_type": "code",
   "execution_count": 19,
   "metadata": {
    "collapsed": false
   },
   "outputs": [
    {
     "data": {
      "text/plain": [
       "True"
      ]
     },
     "execution_count": 19,
     "metadata": {},
     "output_type": "execute_result"
    }
   ],
   "source": [
    "isinstance(fsm42, Fysom)"
   ]
  },
  {
   "cell_type": "code",
   "execution_count": 20,
   "metadata": {
    "collapsed": false
   },
   "outputs": [
    {
     "name": "stdout",
     "output_type": "stream",
     "text": [
      "STATE: green\n",
      "(S) arriving to YELLOW state\n",
      "(e) event WARM callback\n",
      "    >>> from e warm green yellow (125,) 129\n",
      "STATE: yellow\n",
      "(e) event PANIC callback\n",
      "(S) arriving to RED statce\n",
      "(e) event PANIC callback\n",
      "STATE: red\n",
      "(S) REentering to RED state\n",
      "(e) event CRAZY callback\n",
      "STATE: red\n",
      "(S) REentering to RED state\n",
      "(e) event CRAZY callback\n",
      "STATE: red\n",
      "(e:b) before event CALM callback\n",
      "(S) arriving to YELLOW state\n",
      "(e) event CALM callback\n",
      "STATE: yellow\n",
      "(S) arriving to GREEN state\n",
      "(e) event CLEAR callback\n",
      "STATE: green\n"
     ]
    }
   ],
   "source": [
    "print 'STATE:', fsm42.current\n",
    "fsm42.warm(125, numero=129)\n",
    "print 'STATE:', fsm42.current\n",
    "fsm42.panic()\n",
    "print 'STATE:', fsm42.current\n",
    "fsm42.crazy()\n",
    "print 'STATE:', fsm42.current\n",
    "fsm42.crazy()\n",
    "print 'STATE:', fsm42.current\n",
    "fsm42.calm()\n",
    "print 'STATE:', fsm42.current\n",
    "fsm42.clear()\n",
    "print 'STATE:', fsm42.current"
   ]
  },
  {
   "cell_type": "code",
   "execution_count": null,
   "metadata": {
    "collapsed": true
   },
   "outputs": [],
   "source": []
  },
  {
   "cell_type": "markdown",
   "metadata": {},
   "source": [
    "### fsm as class member and callback as class methods"
   ]
  },
  {
   "cell_type": "code",
   "execution_count": 12,
   "metadata": {
    "collapsed": false
   },
   "outputs": [
    {
     "name": "stdout",
     "output_type": "stream",
     "text": [
      "(S) arriving to GREEN state\n"
     ]
    },
    {
     "data": {
      "text/plain": [
       "<__main__.Some at 0x7f105c1a4490>"
      ]
     },
     "execution_count": 12,
     "metadata": {},
     "output_type": "execute_result"
    }
   ],
   "source": [
    "class Some(object):\n",
    "    \n",
    "    def __init__(self):\n",
    "        fsm_struct = {\n",
    "            'initial': 'green',\n",
    "            'events': [\n",
    "                {'name': 'warm', 'src': 'green', 'dst': 'yellow'},\n",
    "                {'name': 'clear', 'src': 'yellow', 'dst': 'green'},\n",
    "                {'name': 'calm', 'src': 'red', 'dst': 'yellow'},\n",
    "                {'name': 'panic', 'src': 'yellow', 'dst': 'red'},\n",
    "                {'name': 'crazy', 'src': 'red', 'dst': 'red'}\n",
    "            ],\n",
    "            'callbacks': {\n",
    "                'onwarm': self.onwarm,\n",
    "                'onclear': self.onclear,\n",
    "                'onbeforepanic': self.onpanic,\n",
    "                'onbeforecalm': self.on_before_calm,\n",
    "                'oncalm': self.oncalm,\n",
    "                'oncrazy': self.oncrazy,\n",
    "                'ongreen': self.on_enter_green,\n",
    "                'onyellow': self.on_enter_yellow,\n",
    "                'onred': self.on_enter_red,\n",
    "                'onreenterred': self.on_reenter_red\n",
    "            }\n",
    "        }\n",
    "        \n",
    "        self._fsm = Fysom(fsm_struct)\n",
    "    \n",
    "    def test_internal_fsm(self):\n",
    "        print 'STATE:', self._fsm.current\n",
    "        self._fsm.warm(125, numero=129)\n",
    "        print 'STATE:', self._fsm.current\n",
    "        self._fsm.panic()\n",
    "        print 'STATE:', self._fsm.current\n",
    "        self._fsm.crazy()\n",
    "        print 'STATE:', self._fsm.current\n",
    "        self._fsm.crazy()\n",
    "        print 'STATE:', self._fsm.current\n",
    "        self._fsm.calm()\n",
    "        print 'STATE:', self._fsm.current\n",
    "        self._fsm.clear()\n",
    "        print 'STATE:', self._fsm.current\n",
    "    \n",
    "    # for events\n",
    "    def onwarm(self, e):\n",
    "        print '(e) event WARM callback'\n",
    "        print '    >>> from e', e.event, e.src, e.dst, e.args, e.numero\n",
    "        #print dir(e)\n",
    "\n",
    "    def onclear(self, e):\n",
    "        print '(e) event CLEAR callback'\n",
    "\n",
    "    def onpanic(self, e):\n",
    "        print '(e) event PANIC callback'\n",
    "\n",
    "    def oncalm(self, e):\n",
    "        print '(e) event CALM callback'\n",
    "    \n",
    "    def on_before_calm(self, e):\n",
    "        print '(e:b) before event CALM callback'\n",
    "\n",
    "    def oncrazy(self, e):\n",
    "        print '(e) event CRAZY callback'\n",
    "\n",
    "    # for \n",
    "    def on_enter_green(self, e):\n",
    "        print '(S) arriving to GREEN state'\n",
    "\n",
    "    def on_enter_yellow(self, e):\n",
    "        print '(S) arriving to YELLOW state'\n",
    "\n",
    "    def on_enter_red(self, e):\n",
    "        print '(S) arriving to RED statce'\n",
    "\n",
    "    def on_reenter_red(self, e):\n",
    "        print '(S) REentering to RED state'\n",
    "\n",
    "\n",
    "fsm5 = Some()\n",
    "fsm5"
   ]
  },
  {
   "cell_type": "code",
   "execution_count": 13,
   "metadata": {
    "collapsed": false
   },
   "outputs": [
    {
     "name": "stdout",
     "output_type": "stream",
     "text": [
      "STATE: green\n",
      "(S) arriving to YELLOW state\n",
      "(e) event WARM callback\n",
      "    >>> from e warm green yellow (125,) 129\n",
      "STATE: yellow\n",
      "(e) event PANIC callback\n",
      "(S) arriving to RED statce\n",
      "STATE: red\n",
      "(S) REentering to RED state\n",
      "(e) event CRAZY callback\n",
      "STATE: red\n",
      "(S) REentering to RED state\n",
      "(e) event CRAZY callback\n",
      "STATE: red\n",
      "(e:b) before event CALM callback\n",
      "(S) arriving to YELLOW state\n",
      "(e) event CALM callback\n",
      "STATE: yellow\n",
      "(S) arriving to GREEN state\n",
      "(e) event CLEAR callback\n",
      "STATE: green\n"
     ]
    }
   ],
   "source": [
    "fsm5.test_internal_fsm()"
   ]
  },
  {
   "cell_type": "markdown",
   "metadata": {},
   "source": [
    "## others"
   ]
  },
  {
   "cell_type": "code",
   "execution_count": 30,
   "metadata": {
    "collapsed": true
   },
   "outputs": [],
   "source": [
    "fsm_struct = {\n",
    "    'initial': 'INITIAL',\n",
    "    'events': [\n",
    "        {'name': 'step_one', 'src': 'INITIAL', 'dst': 'STEP_ONE'},\n",
    "        {'name': 'step_two', 'src': 'STEP_ONE', 'dst': 'STEP_TWO'},\n",
    "        {'name': 'step_three', 'src': 'STEP_TWO', 'dst': 'STEP_THREE'},\n",
    "        {'name': 'cancel', 'src': 'STEP_THREE', 'dst': 'STEP_TWO'},\n",
    "        {'name': 'cancel', 'src': 'STEP_TWO', 'dst': 'STEP_ONE'},\n",
    "        {'name': 'cancel', 'src': 'STEP_ONE', 'dst': 'STEP_ONE'}\n",
    "    ]\n",
    "}\n",
    "\n",
    "fsm = Fysom(fsm_struct)"
   ]
  },
  {
   "cell_type": "code",
   "execution_count": 31,
   "metadata": {
    "collapsed": false
   },
   "outputs": [
    {
     "name": "stdout",
     "output_type": "stream",
     "text": [
      "INITIAL\n",
      "STEP_ONE\n",
      "STEP_TWO\n",
      "STEP_THREE\n",
      "STEP_TWO\n",
      "STEP_ONE\n",
      "STEP_ONE\n"
     ]
    }
   ],
   "source": [
    "print fsm.current\n",
    "fsm.step_one()\n",
    "print fsm.current\n",
    "fsm.step_two()\n",
    "print fsm.current\n",
    "fsm.step_three()\n",
    "print fsm.current\n",
    "fsm.cancel()\n",
    "print fsm.current\n",
    "fsm.cancel()\n",
    "print fsm.current\n",
    "fsm.cancel()\n",
    "print fsm.current"
   ]
  },
  {
   "cell_type": "code",
   "execution_count": null,
   "metadata": {
    "collapsed": true
   },
   "outputs": [],
   "source": []
  }
 ],
 "metadata": {
  "kernelspec": {
   "display_name": "Python 2",
   "language": "python",
   "name": "python2"
  },
  "language_info": {
   "codemirror_mode": {
    "name": "ipython",
    "version": 2
   },
   "file_extension": ".py",
   "mimetype": "text/x-python",
   "name": "python",
   "nbconvert_exporter": "python",
   "pygments_lexer": "ipython2",
   "version": "2.7.6"
  }
 },
 "nbformat": 4,
 "nbformat_minor": 1
}
