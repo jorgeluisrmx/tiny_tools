{
 "cells": [
  {
   "cell_type": "code",
   "execution_count": 1,
   "metadata": {
    "collapsed": false
   },
   "outputs": [],
   "source": [
    "from cyclinglog.controllers.user import User\n",
    "from cyclinglog.models.stage import Stage\n",
    "from cyclinglog.models.activity import GpxActivity, ManualActivity, Activity\n",
    "from cyclinglog.models.database import Database\n",
    "\n",
    "import warnings\n",
    "warnings.filterwarnings('ignore')"
   ]
  },
  {
   "cell_type": "markdown",
   "metadata": {},
   "source": [
    "## Creating new user"
   ]
  },
  {
   "cell_type": "code",
   "execution_count": 8,
   "metadata": {
    "collapsed": false
   },
   "outputs": [
    {
     "data": {
      "text/plain": [
       "[u'@test', u'jorgeluisrmx']"
      ]
     },
     "execution_count": 8,
     "metadata": {},
     "output_type": "execute_result"
    }
   ],
   "source": [
    "User.users()"
   ]
  },
  {
   "cell_type": "code",
   "execution_count": 3,
   "metadata": {
    "collapsed": true
   },
   "outputs": [],
   "source": [
    "User.create_new_user('@jorgeluisrmx', '/media/phantom/LIBRARY/VD/health/Cycling')"
   ]
  },
  {
   "cell_type": "code",
   "execution_count": 9,
   "metadata": {
    "collapsed": false
   },
   "outputs": [
    {
     "data": {
      "text/plain": [
       "'jorgeluisrmx'"
      ]
     },
     "execution_count": 9,
     "metadata": {},
     "output_type": "execute_result"
    }
   ],
   "source": [
    "User.current_user()"
   ]
  },
  {
   "cell_type": "markdown",
   "metadata": {},
   "source": [
    "## Adding stages"
   ]
  },
  {
   "cell_type": "code",
   "execution_count": 6,
   "metadata": {
    "collapsed": true
   },
   "outputs": [],
   "source": [
    "Stage.add_stage('Groupless')\n",
    "Stage.add_stage('1st 1000k')\n",
    "Stage.add_stage('2nd 1000k')\n",
    "Stage.add_stage('1st Endurance')\n",
    "Stage.add_stage('2nd Endurance')"
   ]
  },
  {
   "cell_type": "markdown",
   "metadata": {},
   "source": [
    "## Selecting user"
   ]
  },
  {
   "cell_type": "code",
   "execution_count": 2,
   "metadata": {
    "collapsed": false
   },
   "outputs": [],
   "source": [
    "User.select_user('jorgeluisrmx')"
   ]
  },
  {
   "cell_type": "code",
   "execution_count": 3,
   "metadata": {
    "collapsed": true
   },
   "outputs": [],
   "source": [
    "a = ManualActivity()"
   ]
  },
  {
   "cell_type": "code",
   "execution_count": 4,
   "metadata": {
    "collapsed": false
   },
   "outputs": [],
   "source": [
    "summ = a.summary_by_stage()"
   ]
  },
  {
   "cell_type": "code",
   "execution_count": 14,
   "metadata": {
    "collapsed": false
   },
   "outputs": [
    {
     "name": "stdout",
     "output_type": "stream",
     "text": [
      "*None (8 tracks):*\n",
      "\n",
      "DISTANCE_:    *198.05 km*\n",
      "ELEV_GAIN:   +*866.22 m*\n",
      "TOT_TIME_:   +05:02:13\n",
      "TOT_MTIME:   +04:41:22\n",
      "\n",
      "*1st 1000k (29 tracks):*\n",
      "\n",
      "DISTANCE_:    *689.75 km*\n",
      "ELEV_GAIN:   +*4,427.10 m*\n",
      "TOT_TIME_:   +28:57:39\n",
      "TOT_MTIME:   +26:18:08\n",
      "\n",
      "*1st Endurance (2 tracks):*\n",
      "\n",
      "DISTANCE_:    *59.45 km*\n",
      "ELEV_GAIN:   +*nan m*\n",
      "TOT_TIME_:   +00:00:00\n",
      "TOT_MTIME:   +00:00:00\n",
      "\n",
      "*2nd Endurance (1 tracks):*\n",
      "\n",
      "DISTANCE_:    *21.92 km*\n",
      "ELEV_GAIN:    *327.26 m*\n",
      "TOT_TIME_:    01:28:30\n",
      "TOT_MTIME:    01:24:54\n",
      "\n"
     ]
    }
   ],
   "source": [
    "for row in summ:\n",
    "    te = ' ' if row['not_null_time_tracks']==row['tracks'] else '+'\n",
    "    ge = ' ' if row['not_null_elev_gain_tracks']==row['tracks'] else '+'\n",
    "    print \"\"\"*{r[stage]} ({r[tracks]} tracks):*\n",
    "\n",
    "DISTANCE_:    *{r[total_distance]:,.2f} km*\n",
    "ELEV_GAIN:   {ge}*{r[total_elev_gain]:,.2f} m*\n",
    "TOT_TIME_:   {te}{r[total_time]}\n",
    "TOT_MTIME:   {te}{r[total_time_moving]}\"\"\".format(r=row, ge=ge, te=te)\n",
    "    print"
   ]
  },
  {
   "cell_type": "code",
   "execution_count": 16,
   "metadata": {
    "collapsed": false
   },
   "outputs": [],
   "source": [
    "a=\"\"\"*None (8 tracks):*\n",
    "\n",
    "DISTANCE..:    *198.05 km*\n",
    "ELEV_GAIN:   +*866.22 m*\n",
    "TOT-TIME..:   +05:02:13\n",
    "TOT-MTIME:   +04:41:22\"\"\""
   ]
  },
  {
   "cell_type": "code",
   "execution_count": 17,
   "metadata": {
    "collapsed": false
   },
   "outputs": [
    {
     "data": {
      "text/plain": [
       "'_'"
      ]
     },
     "execution_count": 17,
     "metadata": {},
     "output_type": "execute_result"
    }
   ],
   "source": [
    "a[51]"
   ]
  },
  {
   "cell_type": "code",
   "execution_count": 52,
   "metadata": {
    "collapsed": false
   },
   "outputs": [
    {
     "data": {
      "text/plain": [
       "nan"
      ]
     },
     "execution_count": 52,
     "metadata": {},
     "output_type": "execute_result"
    }
   ],
   "source": [
    "float('nan')"
   ]
  },
  {
   "cell_type": "code",
   "execution_count": 40,
   "metadata": {
    "collapsed": false
   },
   "outputs": [
    {
     "name": "stdout",
     "output_type": "stream",
     "text": [
      "OrderedDict([('stage', u'None'), ('tracks', 8), ('total_distance', 198.05), ('total_elev_gain', 866.22), ('total_time', u'05:02:13'), ('total_time_moving', u'04:41:22'), ('not_null_time_tracks', 2), ('not_null_elev_gain_tracks', 2)])\n",
      "\n",
      "OrderedDict([('stage', u'1st 1000k'), ('tracks', 29), ('total_distance', 689.75), ('total_elev_gain', 4427.099999999999), ('total_time', u'28:57:39'), ('total_time_moving', u'26:18:08'), ('not_null_time_tracks', 15), ('not_null_elev_gain_tracks', 15)])\n",
      "\n",
      "OrderedDict([('stage', u'1st Endurance'), ('tracks', 2), ('total_distance', 59.45), ('total_elev_gain', None), ('total_time', u'00:00:00'), ('total_time_moving', u'00:00:00'), ('not_null_time_tracks', 0), ('not_null_elev_gain_tracks', 0)])\n",
      "\n",
      "OrderedDict([('stage', u'2nd Endurance'), ('tracks', 1), ('total_distance', 21.92), ('total_elev_gain', 327.26), ('total_time', u'01:28:30'), ('total_time_moving', u'01:24:54'), ('not_null_time_tracks', 1), ('not_null_elev_gain_tracks', 1)])\n",
      "\n"
     ]
    }
   ],
   "source": [
    "for row in summ:\n",
    "    print row\n",
    "    print"
   ]
  },
  {
   "cell_type": "code",
   "execution_count": 4,
   "metadata": {
    "collapsed": false
   },
   "outputs": [],
   "source": [
    "qcur = Database.CONN.execute(\"\"\"SELECT name as stage, COUNT(route) as tracks, sum(distance) as distance, sum(elev_gain) as elev_gain, sum(time) as time, sum(time_moving) as time_moving, \n",
    "\t   count(time) as not_null_time, count(elev_gain) as not_null_elev_gain\n",
    "FROM activities r1 JOIN stages r2 ON r1.stage = r2.id\n",
    "GROUP BY stage\"\"\")"
   ]
  },
  {
   "cell_type": "code",
   "execution_count": 73,
   "metadata": {
    "collapsed": false
   },
   "outputs": [
    {
     "name": "stdout",
     "output_type": "stream",
     "text": [
      "(u'None', 8, 198.05, 866.22, 18133, 16882, 2, 2)\n",
      "(u'1st 1000k', 29, 689.75, 4427.099999999999, 104259, 94688, 15, 15)\n",
      "(u'1st Endurance', 2, 59.45, None, None, None, 0, 0)\n",
      "(u'2nd Endurance', 1, 21.92, 327.26, 5310, 5094, 1, 1)\n"
     ]
    }
   ],
   "source": [
    "for row in qcur:\n",
    "    print row"
   ]
  },
  {
   "cell_type": "code",
   "execution_count": 9,
   "metadata": {
    "collapsed": false
   },
   "outputs": [
    {
     "name": "stdout",
     "output_type": "stream",
     "text": [
      "OrderedDict([('stage', u'None'), ('tracks', 8), ('total_distance', 198.05), ('total_elev_gain', 866.22), ('total_time', u'05:02:13'), ('total_time_moving', u'04:41:22'), ('not_null_time_tracks', 2), ('not_null_elev_gain_tracks', 2)])\n"
     ]
    }
   ],
   "source": [
    "for row in summ:\n",
    "    print row\n",
    "    break"
   ]
  },
  {
   "cell_type": "code",
   "execution_count": 11,
   "metadata": {
    "collapsed": false
   },
   "outputs": [
    {
     "data": {
      "text/plain": [
       "u'None'"
      ]
     },
     "execution_count": 11,
     "metadata": {},
     "output_type": "execute_result"
    }
   ],
   "source": [
    "\"{}\".format(summ[0]['stage'])"
   ]
  },
  {
   "cell_type": "code",
   "execution_count": null,
   "metadata": {
    "collapsed": true
   },
   "outputs": [],
   "source": []
  },
  {
   "cell_type": "code",
   "execution_count": null,
   "metadata": {
    "collapsed": true
   },
   "outputs": [],
   "source": []
  },
  {
   "cell_type": "code",
   "execution_count": null,
   "metadata": {
    "collapsed": true
   },
   "outputs": [],
   "source": []
  },
  {
   "cell_type": "code",
   "execution_count": null,
   "metadata": {
    "collapsed": true
   },
   "outputs": [],
   "source": []
  },
  {
   "cell_type": "code",
   "execution_count": null,
   "metadata": {
    "collapsed": true
   },
   "outputs": [],
   "source": []
  },
  {
   "cell_type": "markdown",
   "metadata": {},
   "source": [
    "## Adding manual activity to db"
   ]
  },
  {
   "cell_type": "code",
   "execution_count": 5,
   "metadata": {
    "collapsed": false
   },
   "outputs": [
    {
     "data": {
      "text/plain": [
       "[u'date',\n",
       " u'time_start',\n",
       " u'time',\n",
       " u'mod',\n",
       " u'cycle',\n",
       " u'stage',\n",
       " u'toi',\n",
       " u'toi_label',\n",
       " u'comments']"
      ]
     },
     "execution_count": 5,
     "metadata": {},
     "output_type": "execute_result"
    }
   ],
   "source": [
    "a.optional_attrs()"
   ]
  },
  {
   "cell_type": "code",
   "execution_count": 41,
   "metadata": {
    "collapsed": false
   },
   "outputs": [
    {
     "name": "stdout",
     "output_type": "stream",
     "text": [
      "[u'route', u'distance']\n",
      "date: 2017-04-10\n",
      "time_start: 21:00:00\n",
      "cycle: True\n",
      "stage: None\n"
     ]
    }
   ],
   "source": [
    "a = ManualActivity()\n",
    "print a.requiered_attrs()\n",
    "print a.current_state()"
   ]
  },
  {
   "cell_type": "code",
   "execution_count": null,
   "metadata": {
    "collapsed": true
   },
   "outputs": [],
   "source": []
  },
  {
   "cell_type": "code",
   "execution_count": 66,
   "metadata": {
    "collapsed": true
   },
   "outputs": [],
   "source": [
    "a = \"\"\"*NEW MANUAL ACTIVITY*\n",
    "\n",
    "date: 2017-04-11\n",
    "time_start: 22:00:00\n",
    "cycle: True\n",
    "stage: None\n",
    "\n",
    "Choose an option:\"\"\""
   ]
  },
  {
   "cell_type": "code",
   "execution_count": 67,
   "metadata": {
    "collapsed": false
   },
   "outputs": [
    {
     "data": {
      "text/plain": [
       "103"
      ]
     },
     "execution_count": 67,
     "metadata": {},
     "output_type": "execute_result"
    }
   ],
   "source": [
    "len(a)"
   ]
  },
  {
   "cell_type": "code",
   "execution_count": 68,
   "metadata": {
    "collapsed": false
   },
   "outputs": [
    {
     "data": {
      "text/plain": [
       "'_'"
      ]
     },
     "execution_count": 68,
     "metadata": {},
     "output_type": "execute_result"
    }
   ],
   "source": [
    "a[44]"
   ]
  },
  {
   "cell_type": "code",
   "execution_count": null,
   "metadata": {
    "collapsed": true
   },
   "outputs": [],
   "source": []
  },
  {
   "cell_type": "code",
   "execution_count": 37,
   "metadata": {
    "collapsed": false
   },
   "outputs": [
    {
     "name": "stdout",
     "output_type": "stream",
     "text": [
      "date: 2016-02-16\n",
      "route: Nogueras\n",
      "mod: first_bridge\n",
      "time_start: 07:00:00\n",
      "distance: 20.0\n",
      "cycle: True\n",
      "stage: 1st 1000k\n"
     ]
    }
   ],
   "source": [
    "a.set_by_name('date', '2016-02-16')\n",
    "a.set_by_name('route', 'Nogueras')\n",
    "a.set_by_name('mod', 'first_bridge')\n",
    "a.set_by_name('stage', '1st 1000k')\n",
    "a.set_by_name('distance', 20.00)\n",
    "a.set_by_name('time_start', '07:00:00')\n",
    "# a.set_by_name('cycle', False)\n",
    "a.ready()\n",
    "print a.current_state()"
   ]
  },
  {
   "cell_type": "code",
   "execution_count": 38,
   "metadata": {
    "collapsed": false
   },
   "outputs": [],
   "source": [
    "a.save()"
   ]
  },
  {
   "cell_type": "markdown",
   "metadata": {},
   "source": [
    "## Adding GpxActivity to db"
   ]
  },
  {
   "cell_type": "code",
   "execution_count": 20,
   "metadata": {
    "collapsed": false
   },
   "outputs": [
    {
     "data": {
      "text/plain": [
       "[u'mod',\n",
       " u'toi',\n",
       " u'toi_label',\n",
       " u'comments',\n",
       " u'date',\n",
       " u'route',\n",
       " u'stage',\n",
       " u'distance',\n",
       " u'time_start',\n",
       " u'time',\n",
       " u'time_moving',\n",
       " u'speed',\n",
       " u'speed_moving',\n",
       " u'speed_max',\n",
       " u'elev_gain',\n",
       " u'elev_loss',\n",
       " u'elev_min',\n",
       " u'elev_max',\n",
       " u'cycle']"
      ]
     },
     "execution_count": 20,
     "metadata": {},
     "output_type": "execute_result"
    }
   ],
   "source": [
    "a.extra_info() + a.settable_attrs()"
   ]
  },
  {
   "cell_type": "code",
   "execution_count": 4,
   "metadata": {
    "collapsed": true
   },
   "outputs": [],
   "source": [
    "gpxfilename = \"2.gpx\""
   ]
  },
  {
   "cell_type": "code",
   "execution_count": 5,
   "metadata": {
    "collapsed": false,
    "scrolled": false
   },
   "outputs": [
    {
     "name": "stdout",
     "output_type": "stream",
     "text": [
      "date: 2016-01-09\n",
      "route: BrechaCoquimatlan\n",
      "stage: None\n",
      "distance: 23.72\n",
      "time_start: 13:20:38\n",
      "time: 01:34:15\n",
      "time_moving: 01:29:26\n",
      "speed: 15.1\n",
      "speed_moving: 15.92\n",
      "speed_max: 30.85\n",
      "elev_gain: 201.7\n",
      "elev_loss: 201.67\n",
      "elev_min: 358.24\n",
      "elev_max: 506.14\n",
      "cycle: True\n",
      "gpx_filename: 5b80fb5562c93ee087299868d24c5e1ed059f6f1.gpx\n"
     ]
    }
   ],
   "source": [
    "a = GpxActivity(gpxfilename)\n",
    "print a.current_state()"
   ]
  },
  {
   "cell_type": "code",
   "execution_count": 41,
   "metadata": {
    "collapsed": false
   },
   "outputs": [
    {
     "name": "stdout",
     "output_type": "stream",
     "text": [
      "date: 2016-02-17\n",
      "route: EspinalPoblado\n",
      "stage: 1st 1000k\n",
      "distance: 32.11\n",
      "time_start: 06:37:28\n",
      "time: 02:39:42\n",
      "time_moving: 02:28:38\n",
      "speed: 12.06\n",
      "speed_moving: 12.96\n",
      "speed_max: 24.12\n",
      "elev_gain: 243.4\n",
      "elev_loss: 237.51\n",
      "elev_min: 361.68\n",
      "elev_max: 504.14\n",
      "cycle: True\n",
      "gpx_filename: 1cd739d59fa1030fbccf148e16040774dee49de5.gpx\n"
     ]
    }
   ],
   "source": [
    "# a.set_by_name('date', '2016-02-11')\n",
    "a.set_by_name('route', 'EspinalPoblado')\n",
    "# a.set_by_name('mod', 'first_bridge')\n",
    "a.set_by_name('time_start', '06:37:28')\n",
    "a.set_by_name('stage', '1st 1000k')\n",
    "# a.set_by_name('toi', '01:08:08')\n",
    "# a.set_by_name('toi_label', 'fraccionamiento')\n",
    "# a.set_by_name('comments', 'inicio en contitucion con tercer anillo')\n",
    "\n",
    "print a.current_state()"
   ]
  },
  {
   "cell_type": "code",
   "execution_count": 42,
   "metadata": {
    "collapsed": true
   },
   "outputs": [],
   "source": [
    "a.save()"
   ]
  },
  {
   "cell_type": "code",
   "execution_count": null,
   "metadata": {
    "collapsed": true
   },
   "outputs": [],
   "source": []
  },
  {
   "cell_type": "code",
   "execution_count": null,
   "metadata": {
    "collapsed": true
   },
   "outputs": [],
   "source": []
  },
  {
   "cell_type": "code",
   "execution_count": null,
   "metadata": {
    "collapsed": true
   },
   "outputs": [],
   "source": []
  },
  {
   "cell_type": "code",
   "execution_count": null,
   "metadata": {
    "collapsed": true
   },
   "outputs": [],
   "source": []
  },
  {
   "cell_type": "code",
   "execution_count": 12,
   "metadata": {
    "collapsed": false
   },
   "outputs": [
    {
     "data": {
      "text/plain": [
       "15.13"
      ]
     },
     "execution_count": 12,
     "metadata": {},
     "output_type": "execute_result"
    }
   ],
   "source": [
    "round(15.125,2)"
   ]
  },
  {
   "cell_type": "code",
   "execution_count": 8,
   "metadata": {
    "collapsed": true
   },
   "outputs": [],
   "source": [
    "class A(object):\n",
    "    \n",
    "    def __init__(self):\n",
    "        self.a = 1\n",
    "        self.b = 2\n",
    "        self.c = 3"
   ]
  },
  {
   "cell_type": "code",
   "execution_count": 10,
   "metadata": {
    "collapsed": false
   },
   "outputs": [
    {
     "name": "stdout",
     "output_type": "stream",
     "text": [
      "1\n",
      "2\n",
      "3\n"
     ]
    }
   ],
   "source": [
    "A1 = A()\n",
    "print A1.a\n",
    "print A1.b\n",
    "print A1.c"
   ]
  },
  {
   "cell_type": "code",
   "execution_count": 17,
   "metadata": {
    "collapsed": true
   },
   "outputs": [],
   "source": [
    "setattr(A1, 'a', 'None')"
   ]
  },
  {
   "cell_type": "code",
   "execution_count": 19,
   "metadata": {
    "collapsed": false
   },
   "outputs": [
    {
     "name": "stdout",
     "output_type": "stream",
     "text": [
      "None <type 'str'>\n",
      "2\n",
      "3\n"
     ]
    }
   ],
   "source": [
    "print A1.a, type(A1.a)\n",
    "print A1.b\n",
    "print A1.c"
   ]
  },
  {
   "cell_type": "code",
   "execution_count": null,
   "metadata": {
    "collapsed": true
   },
   "outputs": [],
   "source": []
  }
 ],
 "metadata": {
  "kernelspec": {
   "display_name": "Python 2",
   "language": "python",
   "name": "python2"
  },
  "language_info": {
   "codemirror_mode": {
    "name": "ipython",
    "version": 2
   },
   "file_extension": ".py",
   "mimetype": "text/x-python",
   "name": "python",
   "nbconvert_exporter": "python",
   "pygments_lexer": "ipython2",
   "version": "2.7.6"
  }
 },
 "nbformat": 4,
 "nbformat_minor": 1
}
