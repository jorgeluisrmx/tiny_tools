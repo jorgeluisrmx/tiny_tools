{
 "cells": [
  {
   "cell_type": "markdown",
   "metadata": {},
   "source": [
    "# 0. Prelims"
   ]
  },
  {
   "cell_type": "code",
   "execution_count": 1,
   "metadata": {
    "collapsed": true
   },
   "outputs": [],
   "source": [
    "from bs4 import BeautifulSoup\n",
    "import pypub"
   ]
  },
  {
   "cell_type": "markdown",
   "metadata": {},
   "source": [
    "### 0.1 HTML cleanup methods"
   ]
  },
  {
   "cell_type": "code",
   "execution_count": 2,
   "metadata": {
    "collapsed": true
   },
   "outputs": [],
   "source": [
    "def html_cleanup(content, stype):\n",
    "    \"content =  html_string\"\n",
    "    # parse HTML file content\n",
    "    soup = BeautifulSoup(content, 'html.parser')\n",
    "    # cleanup\n",
    "    soup.head.contents=[]\n",
    "    soup.find('nav').extract()\n",
    "    for script in soup.find_all('script'):\n",
    "        script.extract()\n",
    "    if stype == \"chapter\":\n",
    "        for h1 in soup.find_all('h1')[:-1]:\n",
    "            h1.extract()\n",
    "    else:\n",
    "        for h1 in soup.find_all('h1'):\n",
    "            h1.extract()\n",
    "    return soup.prettify()"
   ]
  },
  {
   "cell_type": "markdown",
   "metadata": {
    "collapsed": true
   },
   "source": [
    "# 1. Summary data"
   ]
  },
  {
   "cell_type": "code",
   "execution_count": 3,
   "metadata": {
    "collapsed": true
   },
   "outputs": [],
   "source": [
    "# get summary from FPP_index.html\n",
    "with open('FPP_index.html', 'r') as fin:\n",
    "    summ_content = fin.read()\n",
    "\n",
    "summ_soup = BeautifulSoup(summ_content, 'html.parser')\n",
    "summ = summ_soup.find_all('ul')[0]"
   ]
  },
  {
   "cell_type": "code",
   "execution_count": 4,
   "metadata": {
    "collapsed": false
   },
   "outputs": [
    {
     "data": {
      "text/plain": [
       "[{'file': u'intro.html',\n",
       "  'id': u'1',\n",
       "  'title': u'1 Getting started',\n",
       "  'type': 'chapter',\n",
       "  'ulr': u'https://otexts.org/fpp2/intro.html'},\n",
       " {'file': u'what-can-be-forecast.html',\n",
       "  'id': u'1.1',\n",
       "  'title': u'1.1 What can be forecast?',\n",
       "  'type': 'section',\n",
       "  'ulr': u'https://otexts.org/fpp2/what-can-be-forecast.html'}]"
      ]
     },
     "execution_count": 4,
     "metadata": {},
     "output_type": "execute_result"
    }
   ],
   "source": [
    "# Create a list to store the summary related data to generate epub file\n",
    "fpp_meta = []\n",
    "for elem in summ.find_all('li'):\n",
    "    fpp_meta.append( {\"id\": elem['data-level'],\n",
    "            \"title\": elem.string,\n",
    "            \"ulr\": elem.find('a')['href'],\n",
    "            \"file\": elem.find('a')['href'].split('/')[-1],\n",
    "            \"type\": \"section\" if elem['data-level'].find('.') != -1 else \"chapter\"\n",
    "           })\n",
    "fpp_meta[1:3]"
   ]
  },
  {
   "cell_type": "code",
   "execution_count": 6,
   "metadata": {
    "collapsed": false
   },
   "outputs": [
    {
     "name": "stdout",
     "output_type": "stream",
     "text": [
      "PROCESSING Preface ...\n",
      "PROCESSING 1 Getting started ...\n",
      "PROCESSING 1.1 What can be forecast? ...\n",
      "PROCESSING 1.2 Forecasting, planning and goals ...\n",
      "PROCESSING 1.3 Determining what to forecast ...\n",
      "PROCESSING 1.4 Forecasting data and methods ...\n",
      "PROCESSING 1.5 Some case studies ...\n",
      "PROCESSING 1.6 The basic steps in a forecasting task ...\n",
      "PROCESSING 1.7 The statistical forecasting perspective ...\n",
      "PROCESSING 1.8 Exercises ...\n",
      "PROCESSING 1.9 Further reading ...\n",
      "PROCESSING 2 Time series graphics ...\n",
      "PROCESSING 2.1 ts objects ...\n",
      "PROCESSING 2.2 Time plots ...\n",
      "PROCESSING 2.3 Time series patterns ...\n",
      "PROCESSING 2.4 Seasonal plots ...\n",
      "PROCESSING 2.5 Seasonal subseries plots ...\n",
      "PROCESSING 2.6 Scatterplots ...\n",
      "PROCESSING 2.7 Lag plots ...\n",
      "PROCESSING 2.8 Autocorrelation ...\n",
      "PROCESSING 2.9 White noise ...\n",
      "PROCESSING 2.10 Exercises ...\n",
      "PROCESSING 2.11 Further reading ...\n",
      "PROCESSING 3 The forecaster’s toolbox ...\n",
      "PROCESSING 3.1 Some simple forecasting methods ...\n",
      "PROCESSING 3.2 Transformations and adjustments ...\n",
      "PROCESSING 3.3 Residual diagnostics ...\n",
      "PROCESSING 3.4 Evaluating forecast accuracy ...\n",
      "PROCESSING 3.5 Prediction intervals ...\n",
      "PROCESSING 3.6 The forecast package in R ...\n",
      "PROCESSING 3.7 Exercises ...\n",
      "PROCESSING 3.8 Further reading ...\n",
      "PROCESSING 4 Judgmental forecasts ...\n",
      "PROCESSING 4.1 Beware of limitations ...\n",
      "PROCESSING 4.2 Key principles ...\n",
      "PROCESSING 4.3 The Delphi method ...\n",
      "PROCESSING 4.4 Forecasting by analogy ...\n",
      "PROCESSING 4.5 Scenario forecasting ...\n",
      "PROCESSING 4.6 New product forecasting ...\n",
      "PROCESSING 4.7 Judgmental adjustments ...\n",
      "PROCESSING 4.8 Further reading ...\n",
      "PROCESSING 5 Time series regression models ...\n",
      "PROCESSING 5.1 The linear model ...\n",
      "PROCESSING 5.2 Least squares estimation ...\n",
      "PROCESSING 5.3 Evaluating the regression model ...\n",
      "PROCESSING 5.4 Some useful predictors ...\n",
      "PROCESSING 5.5 Selecting predictors ...\n",
      "PROCESSING 5.6 Forecasting with regression ...\n",
      "PROCESSING 5.7 Matrix formulation ...\n",
      "PROCESSING 5.8 Nonlinear regression ...\n",
      "PROCESSING 5.9 Correlation, causation and forecasting ...\n",
      "PROCESSING 5.10 Exercises ...\n",
      "PROCESSING 5.11 Further reading ...\n",
      "PROCESSING 6 Time series decomposition ...\n",
      "PROCESSING 6.1 Time series components ...\n",
      "PROCESSING 6.2 Moving averages ...\n",
      "PROCESSING 6.3 Classical decomposition ...\n",
      "PROCESSING 6.4 X11 decomposition ...\n",
      "PROCESSING 6.5 SEATS decomposition ...\n",
      "PROCESSING 6.6 STL decomposition ...\n",
      "PROCESSING 6.7 Measuring strength of trend and seasonality ...\n",
      "PROCESSING 6.8 Forecasting with decomposition ...\n",
      "PROCESSING 6.9 Exercises ...\n",
      "PROCESSING 6.10 Further reading ...\n",
      "PROCESSING 7 Exponential smoothing ...\n",
      "PROCESSING 7.1 Simple exponential smoothing ...\n",
      "PROCESSING 7.2 Trend methods ...\n",
      "PROCESSING 7.3 Holt-Winters’ seasonal method ...\n",
      "PROCESSING 7.4 A taxonomy of exponential smoothing methods ...\n",
      "PROCESSING 7.5 Innovations state space models for exponential smoothing ...\n",
      "PROCESSING 7.6 Estimation and model selection ...\n",
      "PROCESSING 7.7 Forecasting with ETS models ...\n",
      "PROCESSING 7.8 Exercises ...\n",
      "PROCESSING 7.9 Further reading ...\n",
      "PROCESSING 8 ARIMA models ...\n",
      "PROCESSING 8.1 Stationarity and differencing ...\n",
      "PROCESSING 8.2 Backshift notation ...\n",
      "PROCESSING 8.3 Autoregressive models ...\n",
      "PROCESSING 8.4 Moving average models ...\n",
      "PROCESSING 8.5 Non-seasonal ARIMA models ...\n",
      "PROCESSING 8.6 Estimation and order selection ...\n",
      "PROCESSING 8.7 ARIMA modelling in R ...\n",
      "PROCESSING 8.8 Forecasting ...\n",
      "PROCESSING 8.9 Seasonal ARIMA models ...\n",
      "PROCESSING 8.10 ARIMA vs ETS ...\n",
      "PROCESSING 8.11 Exercises ...\n",
      "PROCESSING 8.12 Further reading ...\n",
      "PROCESSING 9 Dynamic regression models ...\n",
      "PROCESSING 9.1 Estimation ...\n",
      "PROCESSING 9.2 Regression with ARIMA errors in R ...\n",
      "PROCESSING 9.3 Forecasting ...\n",
      "PROCESSING 9.4 Stochastic and deterministic trends ...\n",
      "PROCESSING 9.5 Dynamic harmonic regression ...\n",
      "PROCESSING 9.6 Lagged predictors ...\n",
      "PROCESSING 9.7 Exercises ...\n",
      "PROCESSING 9.8 Further reading ...\n",
      "PROCESSING 10 Forecasting hierarchical or grouped time series ...\n",
      "PROCESSING 10.1 Hierarchical time series ...\n",
      "PROCESSING 10.2 Grouped time series ...\n",
      "PROCESSING 10.3 The bottom-up approach ...\n",
      "PROCESSING 10.4 Top-down approaches ...\n",
      "PROCESSING 10.5 Middle-out approach ...\n",
      "PROCESSING 10.6 Mapping matrices ...\n",
      "PROCESSING 10.7 The optimal reconciliation approach ...\n",
      "PROCESSING 10.8 Exercises ...\n",
      "PROCESSING 10.9 Further reading ...\n",
      "PROCESSING 11 Advanced forecasting methods ...\n",
      "PROCESSING 11.1 Complex seasonality ...\n",
      "PROCESSING 11.2 Vector autoregressions ...\n",
      "PROCESSING 11.3 Neural network models ...\n",
      "PROCESSING 11.4 Bootstrapping and bagging ...\n",
      "PROCESSING 11.5 Exercises ...\n",
      "PROCESSING 11.6 Further reading ...\n",
      "PROCESSING 12 Some practical forecasting issues ...\n",
      "PROCESSING 12.1 Weekly, daily and sub-daily data ...\n",
      "PROCESSING 12.2 Time series of counts ...\n",
      "PROCESSING 12.3 Ensuring forecasts stay within limits ...\n",
      "PROCESSING 12.4 Forecast combinations ...\n",
      "PROCESSING 12.5 Prediction intervals for aggregates ...\n",
      "PROCESSING 12.6 Backcasting ...\n",
      "PROCESSING 12.7 Very long and very short time series ...\n",
      "PROCESSING 12.8 Forecasting on training and test sets ...\n",
      "PROCESSING 12.9 Dealing with missing values and outliers ...\n",
      "PROCESSING 12.10 Further reading ...\n",
      "PROCESSING Appendix: Using R ...\n",
      "PROCESSING Appendix: For instructors ...\n",
      "PROCESSING Appendix: Reviews ...\n",
      "PROCESSING About the authors ...\n",
      "PROCESSING Bibliography ...\n"
     ]
    },
    {
     "data": {
      "text/plain": [
       "'final/Forecasting Principles and Practice.epub'"
      ]
     },
     "execution_count": 6,
     "metadata": {},
     "output_type": "execute_result"
    }
   ],
   "source": [
    "base_dir = \"fpp2/\"\n",
    "\n",
    "# Epub object creation\n",
    "fpp = pypub.Epub('Forecasting: Principles and Practice')\n",
    "\n",
    "for item in fpp_meta:\n",
    "    # get HTML file content\n",
    "    with open(base_dir + item['file'], 'r') as htmlin:\n",
    "        content = htmlin.read()\n",
    "    #print \"PROCESSING '{}' ...\".format(item['title'])\n",
    "    print \"PROCESSING \" + item['title'] + \" ...\"\n",
    "    # cleaning\n",
    "    clean_content = html_cleanup(content, stype=item['type'])\n",
    "    # add to epub\n",
    "    chap = pypub.create_chapter_from_string(clean_content, title = item['title'], url=item['ulr'])\n",
    "    fpp.add_chapter(chap)\n",
    "\n",
    "# create Epub file\n",
    "fpp.create_epub('final')"
   ]
  },
  {
   "cell_type": "code",
   "execution_count": null,
   "metadata": {
    "collapsed": true
   },
   "outputs": [],
   "source": []
  }
 ],
 "metadata": {
  "kernelspec": {
   "display_name": "Python 2",
   "language": "python",
   "name": "python2"
  },
  "language_info": {
   "codemirror_mode": {
    "name": "ipython",
    "version": 2
   },
   "file_extension": ".py",
   "mimetype": "text/x-python",
   "name": "python",
   "nbconvert_exporter": "python",
   "pygments_lexer": "ipython2",
   "version": "2.7.6"
  }
 },
 "nbformat": 4,
 "nbformat_minor": 2
}
